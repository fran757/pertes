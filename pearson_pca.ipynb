{
 "cells": [
  {
   "cell_type": "code",
   "execution_count": 141,
   "metadata": {},
   "outputs": [
    {
     "data": {
      "text/plain": [
       "Index(['mois', 'jour', 'heure', 'consommation', 'prevision_1', 'prevision_0',\n",
       "       'fioul', 'charbon', 'gaz', 'nucleaire', 'eolien', 'solaire',\n",
       "       'hydraulique', 'pompage', 'bioenergies', 'echanges_physiques',\n",
       "       'taux_co2', 'echanges_angleterre', 'echanges_espagne',\n",
       "       'echanges_italie', 'echanges_suisse', 'echanges_allemagne_belgique',\n",
       "       'fioul_tac', 'fioul_cogen', 'fioul_autres', 'gaz_tac', 'gaz_cogen',\n",
       "       'gaz_ccg', 'gaz_autres', 'hydro_ecluses', 'hydro_lacs',\n",
       "       'hydro_turbines', 'bio_dechets', 'bio_biomasse', 'bio_biogaz'],\n",
       "      dtype='object')"
      ]
     },
     "execution_count": 141,
     "metadata": {},
     "output_type": "execute_result"
    }
   ],
   "source": [
    "import numpy as np\n",
    "import pandas as pd\n",
    "import matplotlib.pyplot as plt\n",
    "import seaborn as sns # pour afficher la map de corrélation\n",
    "import scipy as sc # H0 = non-correlation (assumption that each dataset is normally distributed)\n",
    "from sklearn.metrics import r2_score\n",
    "\n",
    "dataframe = pd.read_csv(\"./data/conso/conso_2018.csv\")\n",
    "dataframe.columns"
   ]
  },
  {
   "cell_type": "markdown",
   "metadata": {},
   "source": [
    "# from split import retrieve, retrieve_and_split"
   ]
  },
  {
   "cell_type": "code",
   "execution_count": 18,
   "metadata": {},
   "outputs": [],
   "source": [
    "def retrieve(year):\n",
    "    \"\"\"Retrieve data\"\"\"\n",
    "    path_X =  \"./data/conso/conso_\" + str(year) + \".csv\"\n",
    "    path_Y =  \"./data/pertes/pertes_\" + str(year) + \".csv\"\n",
    "    X = pd.read_csv(path_X).to_numpy()\n",
    "    Y = pd.read_csv(path_Y).to_numpy()[:, 3]\n",
    "    \n",
    "    return X, Y\n",
    "\n",
    "def retrieve_and_split(year):\n",
    "    \"\"\"Retrieve and split data\n",
    "    into train/val/test datasets\"\"\"\n",
    "    size_1 = 0.70\n",
    "    size_2 = 0.85\n",
    "\n",
    "    path_X = \"./data/conso/conso_\" + str(year) + \".csv\"\n",
    "    path_Y = \"./data/pertes/pertes_\" + str(year) + \".csv\"\n",
    "    X = pd.read_csv(path_X).to_numpy()\n",
    "    Y = pd.read_csv(path_Y).to_numpy()[:, 3]\n",
    "\n",
    "    n = len(X)\n",
    "    n_1 = int(size_1*n)\n",
    "    n_2 = int(size_2*n)\n",
    "\n",
    "    r = np.random.permutation(n)\n",
    "\n",
    "    X_train = X[r[0:n_1], :]\n",
    "    Y_train = Y[r[0:n_1]]\n",
    "    X_val = X[r[n_1:n_2], :]\n",
    "    Y_val = Y[r[n_1:n_2]]\n",
    "    X_test = X[r[n_2:], :]\n",
    "    Y_test = Y[r[n_2:]]\n",
    "\n",
    "    return X_train, Y_train, X_val, Y_val, X_test, Y_test"
   ]
  },
  {
   "cell_type": "markdown",
   "metadata": {},
   "source": [
    "# from utils import add_ones"
   ]
  },
  {
   "cell_type": "code",
   "execution_count": 20,
   "metadata": {},
   "outputs": [],
   "source": [
    "def add_ones(X):\n",
    "    \"\"\" Adds a column of ones in the beginning of X\"\"\"\n",
    "    ones = np.ones(X.shape[0])\n",
    "    ones.shape = (X.shape[0], 1)\n",
    "    return np.concatenate((ones, X), axis=1)"
   ]
  },
  {
   "cell_type": "markdown",
   "metadata": {},
   "source": [
    "# Code"
   ]
  },
  {
   "cell_type": "code",
   "execution_count": 62,
   "metadata": {},
   "outputs": [],
   "source": [
    "X, Y = retrieve(2018)\n",
    "X = (X - X.mean(0)) / (X.std(0)+1e-11)"
   ]
  },
  {
   "cell_type": "markdown",
   "metadata": {},
   "source": [
    "### Test de corrélation (Pearson)"
   ]
  },
  {
   "cell_type": "code",
   "execution_count": 23,
   "metadata": {},
   "outputs": [
    {
     "data": {
      "text/plain": [
       "Text(0.5, 1, 'Absolute Pearson correlation between features')"
      ]
     },
     "execution_count": 23,
     "metadata": {},
     "output_type": "execute_result"
    },
    {
     "data": {
      "image/png": "[encoded data removed]",
      "text/plain": [
       "<Figure size 720x576 with 2 Axes>"
      ]
     },
     "metadata": {
      "needs_background": "light"
     },
     "output_type": "display_data"
    }
   ],
   "source": [
    "n, p = X.shape\n",
    "\n",
    "inner_corr = np.zeros((p, p))\n",
    "target_corr = np.zeros(p)\n",
    "for i in range(p):\n",
    "    target_corr[i] = sc.stats.pearsonr(X[:, i], Y)[0]\n",
    "    for j in range(p):\n",
    "        inner_corr[i, j] = sc.stats.pearsonr(X[:, i], X[:, j])[0]\n",
    "\n",
    "# afficher la map de corrélation entre features\n",
    "\n",
    "plt.figure(figsize=(10,8))\n",
    "sns.heatmap(abs(inner_corr), annot=False)\n",
    "plt.title(\"Absolute Pearson correlation between features\")"
   ]
  },
  {
   "cell_type": "markdown",
   "metadata": {},
   "source": [
    "Les features 3, 4 et 5 c'est des doublons : elles sont ultra corrélées entre elles et elles n'apportent aucune infos en plus (les 3 ont les mêmes corrélations avec les autres). "
   ]
  },
  {
   "cell_type": "code",
   "execution_count": 24,
   "metadata": {},
   "outputs": [
    {
     "name": "stdout",
     "output_type": "stream",
     "text": [
      "doublons à supprimer pour un seuil de 0.85 : (4, 5, 24, 16, 27, 29, 30)\n"
     ]
    }
   ],
   "source": [
    "# trouver les variables répétitives (celles de grande corrélation) et supprimer les doublons\n",
    "\n",
    "seuil = 0.85 # 0.5 c'est déjà restrictif\n",
    "high_corr = inner_corr > seuil\n",
    "for i in range(p):\n",
    "    high_corr[i, i] = False\n",
    "\n",
    "possede_doublons = []\n",
    "for i in range(p):\n",
    "    if np.sum(high_corr[i]) > 0 :\n",
    "        possede_doublons.append(i)\n",
    "\n",
    "# à la main\n",
    "        \n",
    "groupes_doublons = []\n",
    "for i in possede_doublons :\n",
    "    group = [i]\n",
    "    for j in range(p) :\n",
    "        if high_corr[i, j] :\n",
    "            group.append(j)\n",
    "    not_sorted_group = group[:]\n",
    "    group.sort()\n",
    "    if group not in groupes_doublons:\n",
    "        groupes_doublons.append(not_sorted_group)\n",
    "\n",
    "doublons = (4, 5, 12, 24, 16, 27)\n",
    "no_doublon = np.delete(np.arange(p), doublons)\n",
    "\n",
    "# automatisé\n",
    "\n",
    "corr = np.copy(inner_corr)\n",
    "doublons = []\n",
    "removed = np.zeros(p)\n",
    "for i in possede_doublons :\n",
    "    for j in possede_doublons :\n",
    "        if high_corr[i, j] :\n",
    "            index = max(i, j)\n",
    "            if removed[index] :\n",
    "                continue\n",
    "            else :\n",
    "                doublons.append(index)\n",
    "                np.delete(corr, index, axis=0)\n",
    "                np.delete(corr, index, axis=1)\n",
    "                removed[index] = 1\n",
    "doublons = tuple(doublons)\n",
    "no_doublon = np.delete(np.arange(p), doublons)\n",
    "\n",
    "print(\"doublons à supprimer pour un seuil de\", seuil, \":\", doublons)"
   ]
  },
  {
   "cell_type": "markdown",
   "metadata": {},
   "source": [
    "Donc (les groupes de corréation sont très claires) :\n",
    "- 3, 4, 5 sont des doublons (très corrélés et toujours présents dans les mêmes groupes)\n",
    "- 12, 29, 30 sont des doublons (2 à 2)\n",
    "- 6, 24 sont des doublons\n",
    "- 8, 16, 27 sont des doublons\n",
    "\n",
    "On décide de supprimer : 4, 5, 12, 24, 16, 27."
   ]
  },
  {
   "cell_type": "markdown",
   "metadata": {},
   "source": [
    "### Variable selection with Pearson"
   ]
  },
  {
   "cell_type": "code",
   "execution_count": 25,
   "metadata": {},
   "outputs": [
    {
     "data": {
      "image/png": "[encoded data removed]",
      "text/plain": [
       "<Figure size 1008x288 with 1 Axes>"
      ]
     },
     "metadata": {
      "needs_background": "light"
     },
     "output_type": "display_data"
    }
   ],
   "source": [
    "# afficher la map de corrélation entre chaque feature et Y\n",
    "\n",
    "plt.figure(figsize=(14,4))\n",
    "plt.scatter(no_doublon, np.delete(abs(target_corr), doublons))\n",
    "plt.xlabel(\"feature\")\n",
    "plt.ylabel(\"absolute correlation with Y\")\n",
    "plt.title(\"Absolute Pearson correlation between each feature and Y\")\n",
    "plt.show()"
   ]
  },
  {
   "cell_type": "code",
   "execution_count": 26,
   "metadata": {},
   "outputs": [
    {
     "name": "stdout",
     "output_type": "stream",
     "text": [
      "[0, 1, 2, 11, 19, 20, 33, 34]\n"
     ]
    }
   ],
   "source": [
    "# remove the very little correlated feature to Y\n",
    "\n",
    "seuil = 0.05\n",
    "low_corr = []\n",
    "for i in range(p):\n",
    "    if target_corr[i] < seuil :\n",
    "        low_corr.append(i)\n",
    "print(low_corr)"
   ]
  },
  {
   "cell_type": "markdown",
   "metadata": {},
   "source": [
    "### Variable selection with PCA"
   ]
  },
  {
   "cell_type": "code",
   "execution_count": 27,
   "metadata": {},
   "outputs": [],
   "source": [
    "K = np.transpose(X).dot(X)/n\n",
    "pca_eig_values, pca_eig_vectors = np.linalg.eigh(K)[:2] # the eigen vectors are ordered by ascendant eigen value\n",
    "\n",
    "def pca(X, l): # l = number of principal components\n",
    "    E = pca_eig_vectors[:, -l:]\n",
    "    norm_proj = np.linalg.norm(E, axis=1)\n",
    "    principal_corr = np.zeros((l, p))\n",
    "    for i in range(l):\n",
    "        for j in range(p):\n",
    "            principal_corr[i, j] = np.sqrt(pca_eig_values[-i-1]) * abs(E[j, -i-1] / K[j, j])\n",
    "    return norm_proj, np.sum(principal_corr, axis=0)\n",
    "\n",
    "proj_20, corr_20 = pca(X, 20)\n",
    "proj_15, corr_15 = pca(X, 15)\n",
    "proj_10, corr_10 = pca(X, 10)"
   ]
  },
  {
   "cell_type": "code",
   "execution_count": 28,
   "metadata": {},
   "outputs": [
    {
     "data": {
      "image/png": "[encoded data removed]",
      "text/plain": [
       "<Figure size 1008x288 with 1 Axes>"
      ]
     },
     "metadata": {
      "needs_background": "light"
     },
     "output_type": "display_data"
    }
   ],
   "source": [
    "plt.figure(figsize=(14,4))\n",
    "plt.scatter(no_doublon, np.delete(corr_20, doublons), label=\"l = 20\")\n",
    "plt.scatter(no_doublon, np.delete(corr_15, doublons), label=\"l = 15\")\n",
    "plt.scatter(no_doublon, np.delete(corr_10, doublons), label=\"l = 10\")\n",
    "plt.xlabel(\"feature\")\n",
    "plt.ylabel(\"avg of correlation\")\n",
    "plt.legend(loc=3)\n",
    "plt.show()"
   ]
  },
  {
   "cell_type": "code",
   "execution_count": 29,
   "metadata": {},
   "outputs": [
    {
     "data": {
      "image/png": "[encoded data removed]",
      "text/plain": [
       "<Figure size 1008x288 with 1 Axes>"
      ]
     },
     "metadata": {
      "needs_background": "light"
     },
     "output_type": "display_data"
    }
   ],
   "source": [
    "plt.figure(figsize=(14,4))\n",
    "plt.scatter(no_doublon, np.delete(proj_20, doublons), label=\"l = 20\")\n",
    "plt.scatter(no_doublon, np.delete(proj_15, doublons), label=\"l = 15\")\n",
    "plt.scatter(no_doublon, np.delete(proj_10, doublons), label=\"l = 10\")\n",
    "plt.xlabel(\"feature\")\n",
    "plt.ylabel(\"norm of projection\")\n",
    "plt.legend(loc=3)\n",
    "plt.show()"
   ]
  },
  {
   "cell_type": "markdown",
   "metadata": {},
   "source": [
    "### Univariate feature selection"
   ]
  },
  {
   "cell_type": "code",
   "execution_count": 72,
   "metadata": {},
   "outputs": [],
   "source": [
    "X_train, Y_train, X_val, Y_val, X_test, Y_test = retrieve_and_split(2016)\n",
    "X_train = (X_train - X_train.mean(0)) / np.linalg.norm(X_train)\n",
    "X_val = (X_val - X_val.mean(0)) / np.linalg.norm(X_val)\n",
    "X_test = (X_test - X_test.mean(0)) / np.linalg.norm(X_test)"
   ]
  },
  {
   "cell_type": "markdown",
   "metadata": {},
   "source": [
    "### kNN"
   ]
  },
  {
   "cell_type": "code",
   "execution_count": 154,
   "metadata": {
    "scrolled": true
   },
   "outputs": [
    {
     "name": "stdout",
     "output_type": "stream",
     "text": [
      "feature: 1/35\n",
      "feature: 2/35\n",
      "feature: 3/35\n",
      "feature: 4/35\n",
      "feature: 5/35\n",
      "feature: 6/35\n",
      "feature: 7/35\n",
      "feature: 8/35\n",
      "feature: 9/35\n",
      "feature: 10/35\n",
      "feature: 11/35\n",
      "feature: 12/35\n",
      "feature: 13/35\n",
      "feature: 14/35\n",
      "feature: 15/35\n",
      "feature: 16/35\n",
      "feature: 17/35\n",
      "feature: 18/35\n",
      "feature: 19/35\n",
      "feature: 20/35\n",
      "feature: 21/35\n",
      "feature: 22/35\n",
      "feature: 23/35\n",
      "feature: 24/35\n",
      "feature: 25/35\n",
      "feature: 26/35\n",
      "feature: 27/35\n",
      "feature: 28/35\n",
      "feature: 29/35\n",
      "feature: 30/35\n",
      "feature: 31/35\n",
      "feature: 32/35\n",
      "feature: 33/35\n",
      "feature: 34/35\n",
      "feature: 35/35\n",
      "feature: 1/35\n",
      "feature: 2/35\n",
      "feature: 3/35\n",
      "feature: 4/35\n",
      "feature: 5/35\n",
      "feature: 6/35\n",
      "feature: 7/35\n",
      "feature: 8/35\n",
      "feature: 9/35\n",
      "feature: 10/35\n",
      "feature: 11/35\n",
      "feature: 12/35\n",
      "feature: 13/35\n",
      "feature: 14/35\n",
      "feature: 15/35\n",
      "feature: 16/35\n",
      "feature: 17/35\n",
      "feature: 18/35\n",
      "feature: 19/35\n",
      "feature: 20/35\n",
      "feature: 21/35\n",
      "feature: 22/35\n",
      "feature: 23/35\n",
      "feature: 24/35\n",
      "feature: 25/35\n",
      "feature: 26/35\n",
      "feature: 27/35\n",
      "feature: 28/35\n",
      "feature: 29/35\n",
      "feature: 30/35\n",
      "feature: 31/35\n",
      "feature: 32/35\n",
      "feature: 33/35\n",
      "feature: 34/35\n",
      "feature: 35/35\n"
     ]
    },
    {
     "data": {
      "image/png": "[encoded data removed]",
      "text/plain": [
       "<Figure size 1008x288 with 1 Axes>"
      ]
     },
     "metadata": {
      "needs_background": "light"
     },
     "output_type": "display_data"
    }
   ],
   "source": [
    "def knn_regression(X_train, Y_train, x, k):\n",
    "    distances = np.linalg.norm(X_train - x, axis=1)\n",
    "    neighbors = np.argpartition(distances, k)[:k]\n",
    "    labels_neighbors = Y_train[neighbors]\n",
    "    return labels_neighbors.mean()\n",
    "\n",
    "def knn_error(X_train, Y_train, X_val, Y_val, k):\n",
    "    error, rate = np.zeros(len(X_val)), np.zeros(len(X_val))\n",
    "    for i in range(len(X_val)):\n",
    "        error[i] = abs(knn_regression(X_train, Y_train, X_val[i], k) - Y_val[i]) / Y_val[i]\n",
    "    return error.mean()\n",
    "\n",
    "def score_knn(k):\n",
    "    score = np.zeros(p)\n",
    "    for i in range(p) :\n",
    "        score[i] = 1 - knn_error(X_train[:, i].reshape(-1, 1), Y_train, X_val[:, i].reshape(-1, 1), Y_val, k)\n",
    "    return score\n",
    "\n",
    "score_full = 1 - knn_error(X_train, Y_train, X_val, Y_val, k)\n",
    "\n",
    "plt.figure(figsize=(14,4))\n",
    "plt.scatter(no_doublon, np.delete(score_knn(1), doublons), label=\"k = 1\")\n",
    "plt.scatter(no_doublon, np.delete(score_knn(5), doublons), c='green', label=\"k = 5\")\n",
    "plt.plot([0, p], [score_full, score_full], c='red', label='score with all features')\n",
    "plt.xlabel(\"feature\")\n",
    "plt.ylabel(\"score\")\n",
    "plt.title(\"univariate score at kNN\")\n",
    "plt.legend(loc=3)\n",
    "plt.show()"
   ]
  },
  {
   "cell_type": "markdown",
   "metadata": {},
   "source": [
    "Observer les features pour lesquels regarder 5 voisins est moins performant que de regarder 1 voisin."
   ]
  },
  {
   "cell_type": "markdown",
   "metadata": {},
   "source": [
    "### SVM"
   ]
  },
  {
   "cell_type": "code",
   "execution_count": 155,
   "metadata": {},
   "outputs": [],
   "source": [
    "class SAGRegressor(): \n",
    "    def __init__(self, lambada=0.001, eta=0.01): \n",
    "        self.lambada = lambada \n",
    "        self.eta = eta\n",
    "        self.w = None\n",
    "        self.b = None\n",
    "        self.loss_evo_epoch = None\n",
    "        self.loss_evo_lambda_eta = None\n",
    "    \n",
    "    def f(self, X):\n",
    "        return X.dot(self.w) + self.b\n",
    "\n",
    "    def l(self, X, Y):\n",
    "        return (Y - self.f(X))**2\n",
    "    \n",
    "    def fit(self, X, Y, epochs=5):\n",
    "        n, p = X.shape\n",
    "        # warm start\n",
    "        if (self.w is None) and (self.b is None) :\n",
    "            self.w = np.zeros(p)\n",
    "            self.b = 0\n",
    "        self.loss_evo_epoch = np.zeros(0)\n",
    "        indices = np.arange(n)\n",
    "        gw = np.zeros((n, p)) # vector of most recent loss gradient in w\n",
    "        gb = np.zeros(n) # vector of most recent loss gradient in b\n",
    "        dw = np.zeros(p) # sum of gw\n",
    "        db = 0 # sum of gb\n",
    "        for ep in range(epochs):\n",
    "            np.random.shuffle(indices)\n",
    "            for k in range(n):\n",
    "                m = min(k+1+n*ep, n)\n",
    "                i = indices[k]\n",
    "                dw -= gw[i]\n",
    "                db -= gb[i]\n",
    "                # update the gradients\n",
    "                gb[i] = - 2 * (Y[i] - self.f(np.reshape(X[i], [1, -1])))\n",
    "                gw[i] = X[i] * gb[i]\n",
    "                # uptade the sum of gradients\n",
    "                dw += gw[i]\n",
    "                db += gb[i]\n",
    "                # update w and b                \n",
    "                self.w = (1 - self.eta*self.lambada)*self.w - (self.eta / m) * dw\n",
    "                self.b -= (self.eta / m) * db\n",
    "            self.loss_evo_epoch = np.append(self.loss_evo_epoch, self.l(X, Y).mean())\n",
    "        return\n",
    "        \n",
    "    def predict(self, X):\n",
    "        return self.f(X)"
   ]
  },
  {
   "cell_type": "code",
   "execution_count": 156,
   "metadata": {},
   "outputs": [],
   "source": [
    "# avec toutes les features\n",
    "\n",
    "SAG = SAGRegressor(lambada=0.01, eta=0.03)\n",
    "SAG.fit(X_train, Y_train, epochs=50)\n",
    "error = abs(SAG.predict(X_val) - Y_val) / Y_val\n",
    "score_full = 1 - error.mean()"
   ]
  },
  {
   "cell_type": "code",
   "execution_count": 157,
   "metadata": {},
   "outputs": [
    {
     "name": "stdout",
     "output_type": "stream",
     "text": [
      "0\n",
      "1\n",
      "2\n",
      "3\n",
      "4\n",
      "5\n",
      "6\n",
      "7\n",
      "8\n",
      "9\n",
      "10\n",
      "11\n",
      "12\n",
      "13\n",
      "14\n",
      "15\n",
      "16\n",
      "17\n",
      "18\n",
      "19\n",
      "20\n",
      "21\n",
      "22\n",
      "23\n",
      "24\n",
      "25\n",
      "26\n",
      "27\n",
      "28\n",
      "29\n",
      "30\n",
      "31\n",
      "32\n",
      "33\n",
      "34\n"
     ]
    }
   ],
   "source": [
    "# univariate\n",
    "\n",
    "score_svm = np.zeros(p)\n",
    "for i in range(p) :\n",
    "    print(\"feature\" + i, flush=True)\n",
    "    SAG = SAGRegressor(lambada=0.01, eta=0.03)\n",
    "    SAG.fit(X_train[:100, i].reshape(-1, 1), Y_train, epochs=50)\n",
    "    error = abs(SAG.predict(X_val[:100, i].reshape(-1, 1)) - Y_val) / Y_val\n",
    "    score_svm[i] = 1 - error.mean()"
   ]
  },
  {
   "cell_type": "code",
   "execution_count": 158,
   "metadata": {},
   "outputs": [
    {
     "data": {
      "image/png": "[encoded data removed]",
      "text/plain": [
       "<Figure size 1008x288 with 1 Axes>"
      ]
     },
     "metadata": {
      "needs_background": "light"
     },
     "output_type": "display_data"
    }
   ],
   "source": [
    "plt.figure(figsize=(14,4))\n",
    "plt.scatter(no_doublon, np.delete(score_svm, doublons))\n",
    "plt.plot([0, p], [score_full, score_full], c='red', label='score with all features')\n",
    "plt.xlabel(\"feature\")\n",
    "plt.ylabel(\"score\")\n",
    "plt.title(\"univariate R2-score at SVM\")\n",
    "plt.legend(loc=3)\n",
    "plt.show()"
   ]
  },
  {
   "cell_type": "markdown",
   "metadata": {},
   "source": [
    "# from ksvm import poly_kernel, gauss_kernel, SDCARegressor"
   ]
  },
  {
   "cell_type": "code",
   "execution_count": 161,
   "metadata": {},
   "outputs": [],
   "source": [
    "def poly_kernel(x1, x2, param):\n",
    "    return np.dot(x1, x2)**param\n",
    "\n",
    "def gauss_kernel(x1, x2, param):\n",
    "    return np.exp(- param * np.linalg.norm(x1 - x2)**2)\n",
    "\n",
    "class SDCARegressor():\n",
    "    def __init__(self, kernel, param, C = 10):\n",
    "        self.kernel = kernel\n",
    "        self.param = param\n",
    "        self.C = C\n",
    "        self.X = None\n",
    "        self.Y = None\n",
    "        self.alpha = None\n",
    "        \n",
    "    def fit(self, X, Y, epochs = 100, Visual = False):\n",
    "        \n",
    "        def dual_Loss(alpha, X, Y, k):\n",
    "            n = X.shape[0]\n",
    "            return sum([alpha[i]*Y[i] - (alpha[i]**2)/4 for i in range(n)]) - (1/(2*self.C))*sum([alpha[i]*alpha[j]*k(X[i], X[j], self.param) for i in range(n) for j in range(n)])\n",
    "        \n",
    "        X_ones = add_ones(X)\n",
    "        n, p = X_ones.shape\n",
    "        self.alpha = np.zeros(n)\n",
    "        self.Y = Y\n",
    "        self.X = X_ones\n",
    "        loss_values = []\n",
    "        for k in range(epochs):\n",
    "            perm = np.random.permutation(n)\n",
    "            for i in perm:\n",
    "                delta_i = (self.Y[i] - sum([self.alpha[j]*self.kernel(self.X[i], self.X[j], self.param) for j in range(n)]) - (1/2)*self.alpha[i])/((1/2) + self.kernel(self.X[i], self.X[i], self.param)/self.C)\n",
    "                self.alpha[i] = self.alpha[i] + delta_i\n",
    "                print('training, iteration: '+str(k+1)+'/'+str(epochs)+'\\r', sep=' ', end='', flush=True)\n",
    "            if Visual:\n",
    "                loss_values.append(dual_Loss(self.alpha, X_ones, Y, self.kernel))\n",
    "            \n",
    "        if Visual:\n",
    "            it = range(len(loss_values))\n",
    "            plt.figure()\n",
    "            plt.plot(it, loss_values, 'r')\n",
    "            plt.title(\"Loss over epochs\")\n",
    "            plt.show()\n",
    "            \n",
    "    def predict(self, X):\n",
    "        X_ones = add_ones(X)\n",
    "        n = self.X.shape[0]\n",
    "        m = X_ones.shape[0]\n",
    "        Y_pred = np.array([sum([(1/self.C)*self.alpha[i]*self.kernel(self.X[i], X_ones[j], self.param) for i in range(n)]) for j in range(m)])\n",
    "        return Y_pred\n",
    "    \n",
    "    def weights(self):\n",
    "        return self.alpha"
   ]
  },
  {
   "cell_type": "code",
   "execution_count": 165,
   "metadata": {},
   "outputs": [
    {
     "name": "stdout",
     "output_type": "stream",
     "text": [
      "training, iteration: 10/10\r"
     ]
    }
   ],
   "source": [
    "# avec toutes les features\n",
    "\n",
    "sdca = SDCARegressor(gauss_kernel, param = 0.001, C = 1)\n",
    "sdca.fit(X_train[:100], Y_train[:100], epochs = 10, Visual = False)\n",
    "error = abs(sdca.predict(X_val) - Y_val) / Y_val\n",
    "score_full = 1 - error.mean()"
   ]
  },
  {
   "cell_type": "code",
   "execution_count": 169,
   "metadata": {},
   "outputs": [
    {
     "name": "stdout",
     "output_type": "stream",
     "text": [
      "feature: 1/35\n",
      "feature: 2/35ration: 10/10\n",
      "feature: 3/35ration: 10/10\n",
      "feature: 4/35ration: 10/10\n",
      "feature: 5/35ration: 10/10\n",
      "feature: 6/35ration: 10/10\n",
      "feature: 7/35ration: 10/10\n",
      "feature: 8/35ration: 10/10\n",
      "feature: 9/35ration: 10/10\n",
      "feature: 10/35ation: 10/10\n",
      "feature: 11/35ation: 10/10\n",
      "feature: 12/35ation: 10/10\n",
      "feature: 13/35ation: 10/10\n",
      "feature: 14/35ation: 10/10\n",
      "feature: 15/35ation: 10/10\n",
      "feature: 16/35ation: 10/10\n",
      "feature: 17/35ation: 10/10\n",
      "feature: 18/35ation: 10/10\n",
      "feature: 19/35ation: 10/10\n",
      "feature: 20/35ation: 10/10\n",
      "feature: 21/35ation: 10/10\n",
      "feature: 22/35ation: 10/10\n",
      "feature: 23/35ation: 10/10\n",
      "feature: 24/35ation: 10/10\n",
      "feature: 25/35ation: 10/10\n",
      "feature: 26/35ation: 10/10\n",
      "feature: 27/35ation: 10/10\n",
      "feature: 28/35ation: 10/10\n",
      "feature: 29/35ation: 10/10\n",
      "feature: 30/35ation: 10/10\n",
      "feature: 31/35ation: 10/10\n",
      "feature: 32/35ation: 10/10\n",
      "feature: 33/35ation: 10/10\n",
      "feature: 34/35ation: 10/10\n",
      "feature: 35/35ation: 10/10\n",
      "training, iteration: 10/10\r"
     ]
    }
   ],
   "source": [
    "# univariate\n",
    "\n",
    "score_ksvm = np.zeros(p)\n",
    "for i in range(p) :\n",
    "    print('feature: '+str(i+1)+'/'+str(p)+'\\r')\n",
    "    sdca = SDCARegressor(gauss_kernel, param = 0.001, C = 1)\n",
    "    sdca.fit(X_train[:100, i].reshape(-1, 1), Y_train[:100], epochs=10)\n",
    "    error = abs(sdca.predict(X_val[:, i].reshape(-1, 1)) - Y_val) / Y_val\n",
    "    score_ksvm[i] = 1 - error.mean()"
   ]
  },
  {
   "cell_type": "code",
   "execution_count": 170,
   "metadata": {},
   "outputs": [
    {
     "data": {
      "image/png": "[encoded data removed]",
      "text/plain": [
       "<Figure size 1008x288 with 1 Axes>"
      ]
     },
     "metadata": {
      "needs_background": "light"
     },
     "output_type": "display_data"
    }
   ],
   "source": [
    "plt.figure(figsize=(14,4))\n",
    "plt.scatter(no_doublon, np.delete(score_ksvm, doublons))\n",
    "plt.plot([0, p], [score_full, score_full], c='red', label='score with all features')\n",
    "plt.xlabel(\"feature\")\n",
    "plt.ylabel(\"score\")\n",
    "plt.title(\"univariate score at kernel-SVM\")\n",
    "plt.legend(loc=3)\n",
    "plt.show()"
   ]
  },
  {
   "cell_type": "code",
   "execution_count": null,
   "metadata": {},
   "outputs": [],
   "source": []
  }
 ],
 "metadata": {
  "kernelspec": {
   "display_name": "Python 3",
   "language": "python",
   "name": "python3"
  },
  "language_info": {
   "codemirror_mode": {
    "name": "ipython",
    "version": 3
   },
   "file_extension": ".py",
   "mimetype": "text/x-python",
   "name": "python",
   "nbconvert_exporter": "python",
   "pygments_lexer": "ipython3",
   "version": "3.7.3"
  }
 },
 "nbformat": 4,
 "nbformat_minor": 4
}
